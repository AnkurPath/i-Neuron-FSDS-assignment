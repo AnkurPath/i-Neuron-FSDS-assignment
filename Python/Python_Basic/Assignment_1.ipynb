{
 "cells": [
  {
   "cell_type": "markdown",
   "id": "9b7c946c",
   "metadata": {},
   "source": [
    "1. In the below elements which of them are values or an expression? eg:- values can be\n",
    "integer or string and expressions will be mathematical operators.\n",
    "*\n",
    "&#39;hello&#39;\n",
    "-87.8\n",
    "-\n",
    "/\n",
    "+\n",
    "6"
   ]
  },
  {
   "cell_type": "code",
   "execution_count": null,
   "id": "95f3565b",
   "metadata": {},
   "outputs": [],
   "source": [
    "* is an expression\n",
    "'hello' is a value\n",
    "-87.8 is a value\n",
    "- is an expression\n",
    "/ is an expression\n",
    "+ is an expression\n",
    "6 ia a value\n"
   ]
  },
  {
   "cell_type": "markdown",
   "id": "9caca25b",
   "metadata": {},
   "source": [
    "2.What is the difference between string and variable?\n"
   ]
  },
  {
   "cell_type": "code",
   "execution_count": null,
   "id": "094673fb",
   "metadata": {},
   "outputs": [],
   "source": [
    "String is a value that is stored inside '' or inside \"\" or inside ''' '''.\n",
    "eg: s=\"ankur\"\n",
    "Variable is like a container where assingned value will be stored.\n",
    "eg: a=5,b=\"xyz\",c=23.5\n",
    "here a,b,c are variables.\n"
   ]
  },
  {
   "cell_type": "markdown",
   "id": "308ddea9",
   "metadata": {},
   "source": [
    "3.Describe three different data types."
   ]
  },
  {
   "cell_type": "code",
   "execution_count": null,
   "id": "9c6ad400",
   "metadata": {},
   "outputs": [],
   "source": [
    "Three different types of datatypes are:\n",
    "    1.int(interger)\n",
    "    2.str(string)\n",
    "    3.float(floating point)"
   ]
  },
  {
   "cell_type": "markdown",
   "id": "8708232b",
   "metadata": {},
   "source": [
    "4.What is an expression made up of? What do all expressions do?"
   ]
  },
  {
   "cell_type": "code",
   "execution_count": null,
   "id": "7fce033e",
   "metadata": {},
   "outputs": [],
   "source": [
    "Expression is a methematical operation ,expression are made up of mathematical operator,expression do methematical operations like addition,substraction and many more. "
   ]
  },
  {
   "cell_type": "markdown",
   "id": "62daf0e7",
   "metadata": {},
   "source": [
    "5.This assignment statements, like spam = 10. What is the difference between an expression and a statement?"
   ]
  },
  {
   "cell_type": "code",
   "execution_count": null,
   "id": "09b6f5e6",
   "metadata": {},
   "outputs": [],
   "source": [
    "Expression is a mathematical operator here = is an expression but statement consist a whole operation like here spam=10,10 is stored inside the spam variable here assignment operation is done by using = expression."
   ]
  },
  {
   "cell_type": "markdown",
   "id": "cd7bfa84",
   "metadata": {},
   "source": [
    "6. After running the following code, what does the variable bacon contain?\n",
    "bacon = 22\n",
    "bacon + 1"
   ]
  },
  {
   "cell_type": "code",
   "execution_count": null,
   "id": "2ee05c04",
   "metadata": {},
   "outputs": [],
   "source": [
    "bacon contains 22"
   ]
  },
  {
   "cell_type": "markdown",
   "id": "67b61f2e",
   "metadata": {},
   "source": [
    "7. What should the values of the following two terms be?\n",
    "'spam'+'spamspam'\n",
    "'spam'*3"
   ]
  },
  {
   "cell_type": "code",
   "execution_count": null,
   "id": "6f68c5cc",
   "metadata": {},
   "outputs": [],
   "source": [
    "'spamspamspam'\n",
    "'spamspamspam'"
   ]
  },
  {
   "cell_type": "markdown",
   "id": "57fc56bc",
   "metadata": {},
   "source": [
    "8. Why is eggs a valid variable name while 100 is invalid?"
   ]
  },
  {
   "cell_type": "code",
   "execution_count": null,
   "id": "689cb2da",
   "metadata": {},
   "outputs": [],
   "source": [
    "eggs is valid variable name while 100 is invalid beacause integer can't be a valid variable.\n"
   ]
  },
  {
   "cell_type": "markdown",
   "id": "1ee18f46",
   "metadata": {},
   "source": [
    "10. Why does this expression cause an error? How can you fix it?\n",
    "'I have eaten'+99+'burritos'"
   ]
  },
  {
   "cell_type": "code",
   "execution_count": null,
   "id": "a5a6cdc7",
   "metadata": {},
   "outputs": [],
   "source": [
    "In the given expression string concadination operation is being done but we can't concade different data types variables so we have to change other data types variable into string,the coreect expression will be\n",
    "'I have eaten'+'99'+'burritos'"
   ]
  }
 ],
 "metadata": {
  "kernelspec": {
   "display_name": "Python 3 (ipykernel)",
   "language": "python",
   "name": "python3"
  },
  "language_info": {
   "codemirror_mode": {
    "name": "ipython",
    "version": 3
   },
   "file_extension": ".py",
   "mimetype": "text/x-python",
   "name": "python",
   "nbconvert_exporter": "python",
   "pygments_lexer": "ipython3",
   "version": "3.9.12"
  }
 },
 "nbformat": 4,
 "nbformat_minor": 5
}
