{
 "cells": [
  {
   "cell_type": "markdown",
   "id": "28397f15",
   "metadata": {},
   "source": [
    "1.What are Escape characters ? and how do you use them ?"
   ]
  },
  {
   "cell_type": "markdown",
   "id": "c32adaca",
   "metadata": {},
   "source": [
    "Ans: Escape characters represent characters in string values that would otherwise be difficult or impossible to type into code. we can use the backslash character to escape a single character or symbol.\n",
    "example: \\t, \\n|"
   ]
  },
  {
   "cell_type": "code",
   "execution_count": 2,
   "id": "694f635c",
   "metadata": {},
   "outputs": [
    {
     "data": {
      "text/plain": [
       "'We are the so-called \"iNeuronites\" from India.'"
      ]
     },
     "execution_count": 2,
     "metadata": {},
     "output_type": "execute_result"
    }
   ],
   "source": [
    "txt = \"We are the so-called \\\"iNeuronites\\\" from India.\"\n",
    "txt"
   ]
  },
  {
   "cell_type": "markdown",
   "id": "c01223a4",
   "metadata": {},
   "source": [
    "2.What do the escape characters n and t stand for ?"
   ]
  },
  {
   "cell_type": "markdown",
   "id": "5ffe544c",
   "metadata": {},
   "source": [
    "Ans: \\n is a newline, \\t is a tab"
   ]
  },
  {
   "cell_type": "code",
   "execution_count": 3,
   "id": "391b3f14",
   "metadata": {},
   "outputs": [
    {
     "name": "stdout",
     "output_type": "stream",
     "text": [
      "Hello\n",
      "World!\n",
      "Hello\n",
      "World!\n"
     ]
    }
   ],
   "source": [
    "txt = \"Hello\\nWorld!\"\n",
    "print(txt) \n",
    "\n",
    "txt1 = \"Hello\\tWorld!\"\n",
    "print(txt) "
   ]
  },
  {
   "cell_type": "markdown",
   "id": "ec1b288f",
   "metadata": {},
   "source": [
    "3.What is the way to include backslash character in a string?"
   ]
  },
  {
   "cell_type": "markdown",
   "id": "f16fe42a",
   "metadata": {},
   "source": [
    "Ans: The \\\\ escape character will represent the backslash character in a string"
   ]
  },
  {
   "cell_type": "markdown",
   "id": "20b50a54",
   "metadata": {},
   "source": [
    "4.The string \"Howl's Moving Castle\" is a correct value. Why isn't the single quote character in the word Howl's not escaped a problem ?"
   ]
  },
  {
   "cell_type": "markdown",
   "id": "6d321e93",
   "metadata": {},
   "source": [
    "Ans: The string \"Howl's Moving Castle\" escaped the problem because it is wrapped inside double quotes. if its wrapped inside single quotes then we have to use escape character \\' to show single quote in the final output"
   ]
  },
  {
   "cell_type": "markdown",
   "id": "379052fc",
   "metadata": {},
   "source": [
    "'Howl\\'s Moving Castle' -> 'Howl's Moving Castle'"
   ]
  },
  {
   "cell_type": "markdown",
   "id": "bf52d161",
   "metadata": {},
   "source": [
    "5.How do you write a string of newlines if you don't want to use the n character?"
   ]
  },
  {
   "cell_type": "markdown",
   "id": "fd139aa2",
   "metadata": {},
   "source": [
    "Ans: Multiline string allow you to use newlines in string without the \\n escape character"
   ]
  },
  {
   "cell_type": "code",
   "execution_count": 5,
   "id": "d2688b25",
   "metadata": {},
   "outputs": [
    {
     "name": "stdout",
     "output_type": "stream",
     "text": [
      "iNeuron full stack\n",
      "Awesome Data Science Course\n"
     ]
    }
   ],
   "source": [
    "# Example:\n",
    "a = '''iNeuron full stack\n",
    "Awesome Data Science Course'''\n",
    "print(a)"
   ]
  },
  {
   "cell_type": "markdown",
   "id": "f7557575",
   "metadata": {},
   "source": [
    "6.What are the values of the given expressions ?"
   ]
  },
  {
   "cell_type": "markdown",
   "id": "a31c454f",
   "metadata": {},
   "source": [
    "\n",
    "'Hello, world!'[1]\n",
    "'Hello, world!'[0:5]\n",
    "'Hello, world!'[:5]\n",
    "'Hello, world!'[3:]"
   ]
  },
  {
   "cell_type": "markdown",
   "id": "e97f06ac",
   "metadata": {},
   "source": [
    "Ans: The values for the given expressions are:"
   ]
  },
  {
   "cell_type": "raw",
   "id": "e829caee",
   "metadata": {},
   "source": [
    "'Hello, world!'[1] -> 'e'\n",
    "'Hello, world!'[0:5] -> 'Hello'\n",
    "'Hello, world!'[:5] -> 'Hello'\n",
    "'Hello, world!'[3:] -> 'lo, world!'"
   ]
  },
  {
   "cell_type": "markdown",
   "id": "422eda6a",
   "metadata": {},
   "source": [
    "7.What are the values of the following expressions ?"
   ]
  },
  {
   "cell_type": "markdown",
   "id": "408457fc",
   "metadata": {},
   "source": [
    "'Hello'.upper()\n",
    "'Hello'.upper().isupper()\n",
    "'Hello'.upper().lower()"
   ]
  },
  {
   "cell_type": "raw",
   "id": "9a73fc50",
   "metadata": {},
   "source": [
    "Ans: The values for the given expressions are:\n",
    "'Hello'.upper() -> 'HELLO'\n",
    "'Hello'.upper().isupper() -> True\n",
    "'Hello'.upper().lower() -> 'hello'"
   ]
  },
  {
   "cell_type": "markdown",
   "id": "1bec0abf",
   "metadata": {},
   "source": [
    "8.What are the values of the following expressions ?"
   ]
  },
  {
   "cell_type": "markdown",
   "id": "dd730d8e",
   "metadata": {},
   "source": [
    "'Remember, remember, the fifith of July.'.split()\n",
    "-'.join('There can only one'.split())"
   ]
  },
  {
   "cell_type": "raw",
   "id": "d9838bd5",
   "metadata": {},
   "source": [
    "Ans: The values for the given expressions are:\n",
    "'Remember, remember, the fifith of July.'.split() -> ['Remember,', 'remember,', 'the', 'fifith', 'of', 'July.']\n",
    "'-'.join('There can only one'.split()) -> 'There-can-only-one'"
   ]
  },
  {
   "cell_type": "markdown",
   "id": "30bf84ae",
   "metadata": {},
   "source": [
    "9.What are the methods for right-justifying, left-justifying and centering a string ?"
   ]
  },
  {
   "cell_type": "raw",
   "id": "9fe8a1be",
   "metadata": {},
   "source": [
    "Ans: The rjust(),ljust(),center() string methods, respectively\n",
    "\n",
    "str.ljust(s, width[, fillchar])\n",
    "\n",
    "str.rjust(s, width[, fillchar])\n",
    "\n",
    "str.center(s, width[, fillchar])"
   ]
  },
  {
   "cell_type": "markdown",
   "id": "a8b6ebab",
   "metadata": {},
   "source": [
    "\n",
    "10.What is the best way to remove whitespace characters from the start or end ?"
   ]
  },
  {
   "cell_type": "markdown",
   "id": "5ed2ea33",
   "metadata": {},
   "source": [
    "Ans: The lstrip() and rstrip() methods remove whitesapce characters from the left and right ends of a string respectively"
   ]
  },
  {
   "cell_type": "code",
   "execution_count": 7,
   "id": "ff32b2f6",
   "metadata": {},
   "outputs": [
    {
     "name": "stdout",
     "output_type": "stream",
     "text": [
      " String after stripping all '-' is : iNeuron\n",
      " String after stripping all leading '-' is : iNeuron---\n",
      " String after stripping all trailing '-' is : ---iNeuron\n"
     ]
    }
   ],
   "source": [
    "str = \"---iNeuron---\"\n",
    " \n",
    "# using strip() to delete all '-'\n",
    "print ( \" String after stripping all '-' is : \", end=\"\")\n",
    "print ( str.strip('-') )\n",
    " \n",
    "# using lstrip() to delete all trailing '-'\n",
    "print ( \" String after stripping all leading '-' is : \", end=\"\")\n",
    "print ( str.lstrip('-') )\n",
    " \n",
    "# using rstrip() to delete all leading '-'\n",
    "print ( \" String after stripping all trailing '-' is : \", end=\"\")\n",
    "print ( str.rstrip('-') )"
   ]
  },
  {
   "cell_type": "code",
   "execution_count": null,
   "id": "58ba07d2",
   "metadata": {},
   "outputs": [],
   "source": []
  }
 ],
 "metadata": {
  "kernelspec": {
   "display_name": "Python 3 (ipykernel)",
   "language": "python",
   "name": "python3"
  },
  "language_info": {
   "codemirror_mode": {
    "name": "ipython",
    "version": 3
   },
   "file_extension": ".py",
   "mimetype": "text/x-python",
   "name": "python",
   "nbconvert_exporter": "python",
   "pygments_lexer": "ipython3",
   "version": "3.9.12"
  }
 },
 "nbformat": 4,
 "nbformat_minor": 5
}
