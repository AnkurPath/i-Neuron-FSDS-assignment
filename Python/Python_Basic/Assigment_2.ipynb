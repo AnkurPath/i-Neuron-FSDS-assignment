{
 "cells": [
  {
   "cell_type": "markdown",
   "id": "aaa5dc7f",
   "metadata": {},
   "source": [
    "1.What are the two values of the Boolean data type? How do you write them?"
   ]
  },
  {
   "cell_type": "code",
   "execution_count": null,
   "id": "0ff2947e",
   "metadata": {},
   "outputs": [],
   "source": [
    "Two Boolean data types are:\n",
    "(i)True\n",
    "(ii)False"
   ]
  },
  {
   "cell_type": "markdown",
   "id": "f481196c",
   "metadata": {},
   "source": [
    "2. What are the three different types of Boolean operators?"
   ]
  },
  {
   "cell_type": "code",
   "execution_count": null,
   "id": "42f1a248",
   "metadata": {},
   "outputs": [],
   "source": [
    "Three different types of Boolean operators are:\n",
    "    (i)and\n",
    "    (ii)or\n",
    "    (iii)not"
   ]
  },
  {
   "cell_type": "markdown",
   "id": "24630fb9",
   "metadata": {},
   "source": [
    "3. Make a list of each Boolean operator&#39;s truth tables (i.e. every possible combination of Boolean\n",
    "values for the operator and what it evaluate )."
   ]
  },
  {
   "cell_type": "code",
   "execution_count": null,
   "id": "bf64a119",
   "metadata": {},
   "outputs": [],
   "source": [
    "Boolean operator    possible combinations     result\n",
    "    (i)and          True , True                True\n",
    "                    True , False               False\n",
    "                    False , True               False\n",
    "                    False, False               False\n",
    "           \n",
    "    (ii)or          True , True                True\n",
    "                    True , False               True\n",
    "                    False , True               True\n",
    "                    False, False               False \n",
    "                \n",
    "    (iii)not        True                       False \n",
    "                    False                      True"
   ]
  },
  {
   "cell_type": "markdown",
   "id": "61c25777",
   "metadata": {},
   "source": [
    "4. What are the values of the following expressions?\n",
    "(5 &gt; 4) and (3 == 5)\n",
    "not (5 &gt; 4)\n",
    "(5 &gt; 4) or (3 == 5)\n",
    "not ((5 &gt; 4) or (3 == 5))\n",
    "(True and True) and (True == False)\n",
    "(not False) or (not True)"
   ]
  },
  {
   "cell_type": "code",
   "execution_count": null,
   "id": "8f0aad48",
   "metadata": {},
   "outputs": [],
   "source": [
    "False\n",
    "False\n",
    "True\n",
    "False\n",
    "False\n",
    "True"
   ]
  },
  {
   "cell_type": "markdown",
   "id": "27eaa45f",
   "metadata": {},
   "source": [
    "5. What are the six comparison operators?"
   ]
  },
  {
   "cell_type": "code",
   "execution_count": null,
   "id": "f53a930c",
   "metadata": {},
   "outputs": [],
   "source": [
    "Comparison operators\n",
    "!= \n",
    "== \n",
    "> \n",
    "< \n",
    ">= \n",
    "<= "
   ]
  },
  {
   "cell_type": "markdown",
   "id": "62cc9d92",
   "metadata": {},
   "source": [
    "6. How do you tell the difference between the equal to and assignment operators?Describe a\n",
    "condition and when you would use one."
   ]
  },
  {
   "cell_type": "code",
   "execution_count": null,
   "id": "9524d457",
   "metadata": {},
   "outputs": [],
   "source": [
    "equal to operation has == sign ,whereas assignment opeerator has only = .\n",
    "assignment operator is used when we want to assign value to any variable (eg. a=5,s=\"ank\")\n",
    "equal to operator is used for comparisation purpose.\n",
    "a = 10\n",
    "b = 4\n",
    "if (a == b):\n",
    "    printf(\"a is equal to b\\n\");\n",
    "else:\n",
    "    \n",
    "    printf(\"a and b are not equal\\n\");"
   ]
  },
  {
   "cell_type": "markdown",
   "id": "7b9e6072",
   "metadata": {},
   "source": [
    "7. Identify the three blocks in this code:\n",
    "spam = 0\n",
    "if spam == 10:\n",
    "print(&#39;eggs&#39;)\n",
    "if spam &gt; 5:\n",
    "print(&#39;bacon&#39;)\n",
    "else:\n",
    "print(&#39;ham&#39;)\n",
    "print(&#39;spam&#39;)\n",
    "print(&#39;spam&#39;)"
   ]
  },
  {
   "cell_type": "code",
   "execution_count": null,
   "id": "dc7f8f15",
   "metadata": {},
   "outputs": [],
   "source": [
    "# first block\n",
    "if spam == 10:\n",
    "    \n",
    "    print(\"eggs\")\n",
    "\n",
    "\n",
    "# second block\n",
    "if spam > 5:\n",
    "     print('bacon') \n",
    "        \n",
    "# third block\n",
    "else: \n",
    "    print('ham')\n",
    "    print('spam') \n",
    "    print('spam')\n",
    "        \n",
    "       \n",
    "    \n",
    "\n"
   ]
  },
  {
   "cell_type": "markdown",
   "id": "80d88773",
   "metadata": {},
   "source": [
    "8. Write code that prints Hello if 1 is stored in spam, prints Howdy if 2 is stored in spam, and prints\n",
    "Greetings! if anything else is stored in spam."
   ]
  },
  {
   "cell_type": "code",
   "execution_count": 22,
   "id": "6f4cb9d4",
   "metadata": {},
   "outputs": [
    {
     "name": "stdout",
     "output_type": "stream",
     "text": [
      " Greetings!\n"
     ]
    }
   ],
   "source": [
    "spam=1\n",
    "if spam == 1:\n",
    "    print(\"Hello\")\n",
    "elif spam == 2:\n",
    "     print(\"Howdy\")      \n",
    "else: \n",
    "    print(\" Greetings!\")\n",
    "   "
   ]
  },
  {
   "cell_type": "markdown",
   "id": "65a65193",
   "metadata": {},
   "source": [
    "9.If your programme is stuck in an endless loop, what keys you’ll press?"
   ]
  },
  {
   "cell_type": "code",
   "execution_count": null,
   "id": "9e14a2d5",
   "metadata": {},
   "outputs": [],
   "source": [
    "I'll press Ctrl+C"
   ]
  },
  {
   "cell_type": "markdown",
   "id": "f94b923d",
   "metadata": {},
   "source": [
    "10. How can you tell the difference between break and continue?"
   ]
  },
  {
   "cell_type": "code",
   "execution_count": null,
   "id": "1e125e9e",
   "metadata": {},
   "outputs": [],
   "source": [
    "break stop the continuation of the loop\n",
    "continue does not stop the continuation of loop and it stops only the current iteration of the loop.\n"
   ]
  },
  {
   "cell_type": "markdown",
   "id": "2d7687db",
   "metadata": {},
   "source": [
    "11. In a for loop, what is the difference between range(10), range(0, 10), and range(0, 10, 1)?"
   ]
  },
  {
   "cell_type": "code",
   "execution_count": null,
   "id": "50499bb2",
   "metadata": {},
   "outputs": [],
   "source": [
    "There is no difference between range(10), range(0, 10), and range(0, 10, 1), range(0, 10), and range(0, 10, 1) all will give same result."
   ]
  },
  {
   "cell_type": "markdown",
   "id": "56955683",
   "metadata": {},
   "source": [
    "12. Write a short program that prints the numbers 1 to 10 using a for loop. Then write an equivalent\n",
    "program that prints the numbers 1 to 10 using a while loop."
   ]
  },
  {
   "cell_type": "code",
   "execution_count": null,
   "id": "b577e01f",
   "metadata": {},
   "outputs": [],
   "source": [
    "for i in range(1,11):\n",
    "    print(i)\n",
    "n=0   \n",
    "while n<10:\n",
    "    n=n+1\n",
    "    print(n)"
   ]
  },
  {
   "cell_type": "markdown",
   "id": "2dd23c32",
   "metadata": {},
   "source": [
    "13. If you had a function named bacon() inside a module named spam, how would you call it after\n",
    "importing spam?\n"
   ]
  },
  {
   "cell_type": "code",
   "execution_count": null,
   "id": "ee010b4b",
   "metadata": {},
   "outputs": [],
   "source": [
    "spam.bacon()"
   ]
  }
 ],
 "metadata": {
  "kernelspec": {
   "display_name": "Python 3 (ipykernel)",
   "language": "python",
   "name": "python3"
  },
  "language_info": {
   "codemirror_mode": {
    "name": "ipython",
    "version": 3
   },
   "file_extension": ".py",
   "mimetype": "text/x-python",
   "name": "python",
   "nbconvert_exporter": "python",
   "pygments_lexer": "ipython3",
   "version": "3.9.12"
  }
 },
 "nbformat": 4,
 "nbformat_minor": 5
}
